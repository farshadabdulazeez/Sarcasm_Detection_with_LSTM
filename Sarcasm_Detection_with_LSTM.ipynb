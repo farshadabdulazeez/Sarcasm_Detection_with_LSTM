{
  "nbformat": 4,
  "nbformat_minor": 0,
  "metadata": {
    "colab": {
      "provenance": [],
      "authorship_tag": "ABX9TyPpEf4e9sCX0kA93KQP0Ow3",
      "include_colab_link": true
    },
    "kernelspec": {
      "name": "python3",
      "display_name": "Python 3"
    },
    "language_info": {
      "name": "python"
    }
  },
  "cells": [
    {
      "cell_type": "markdown",
      "metadata": {
        "id": "view-in-github",
        "colab_type": "text"
      },
      "source": [
        "<a href=\"https://colab.research.google.com/github/farshadabdulazeez/Sarcasm_Detection_with_LSTM/blob/main/Sarcasm_Detection_with_LSTM.ipynb\" target=\"_parent\"><img src=\"https://colab.research.google.com/assets/colab-badge.svg\" alt=\"Open In Colab\"/></a>"
      ]
    },
    {
      "cell_type": "code",
      "execution_count": 2,
      "metadata": {
        "id": "_X1Xc1Q4CaaM"
      },
      "outputs": [],
      "source": [
        "import pandas as pd\n",
        "import random\n",
        "\n",
        "# Generating 500 sarcastic sentences\n",
        "sarcastic_sentences = [\n",
        "    \"Oh great, another Monday! Just what I needed.\",\n",
        "    \"I absolutely love when my internet stops working.\",\n",
        "    \"Wow, this traffic jam is the best part of my day.\",\n",
        "    \"I'm so excited to do my taxes this year.\",\n",
        "    \"This hotel room with no WiFi is just perfect.\",\n",
        "    \"I really enjoy waiting in long lines at the bank.\",\n",
        "    \"I love waking up early on weekends for no reason.\",\n",
        "    \"Amazing! My phone just died when I needed it the most.\",\n",
        "    \"I totally enjoy getting random calls from telemarketers.\",\n",
        "    \"Fantastic, another software update when I'm in a hurry!\",\n",
        "    \"Oh great, another email about a 'great opportunity' that I don't need.\",\n",
        "    \"I just love it when my phone dies in the middle of a call.\",\n",
        "    \"Nothing better than waking up at 5 AM on a Sunday for no reason.\",\n",
        "    \"I absolutely adore waiting 30 minutes just to get a cup of coffee.\",\n",
        "    \"Yes, I really enjoy being stuck in traffic for hours. It's my favorite hobby.\",\n",
        "    \"Oh, you bought a new phone? That's so exciting. How unique!\",\n",
        "    \"Can't wait to pay all my bills this month. It's the highlight of my week.\",\n",
        "    \"Sure, let’s spend the whole day in a meeting that could have been an email.\",\n",
        "    \"I love how my favorite TV show gets canceled after the first season.\",\n",
        "    \"Oh, I just adore getting spam calls every five minutes.\",\n",
        "    \"A power outage in the middle of a Netflix binge? Perfect timing.\",\n",
        "    \"I’m so happy that my car broke down right before the holiday weekend.\",\n",
        "    \"Nothing like a surprise pop quiz to make my day complete.\",\n",
        "    \"I really love when my internet speed is so slow it feels like 1999.\",\n",
        "    \"Getting rained on after I spent hours doing my hair? Best day ever.\",\n",
        "    \"Sure, let’s add another meeting to my already packed schedule. What a treat.\",\n",
        "    \"I truly enjoy being told to work overtime when I was promised a break.\",\n",
        "    \"Oh, you lost your keys again? You must be the most organized person ever.\",\n",
        "    \"Yes, please, let me just do the work of five people today. I’m thrilled.\",\n",
        "    \"Getting stuck in an elevator with no phone signal? Pure joy.\",\n",
        "    \"Oh, another meeting. I was hoping for some more of those today.\",\n",
        "    \"I just love getting stuck in long lines at the grocery store. It's such a fun way to spend time.\",\n",
        "    \"Wow, you got me a gift? I can’t believe it, I’m so surprised.\",\n",
        "    \"Oh, sure, I’ll just drop everything I’m doing and fix your problem right now.\",\n",
        "    \"I really enjoy when my favorite restaurant gets my order wrong... every time.\",\n",
        "    \"I absolutely love getting a flat tire on a rainy day when I’m already late.\",\n",
        "    \"Sure, I’d love to be the one who has to explain things to you over and over.\",\n",
        "    \"It’s always great when my phone decides to crash right before I need it.\",\n",
        "    \"Oh yeah, nothing beats the excitement of getting a bill in the mail after a fun shopping spree.\",\n",
        "    \"You’re going to love this; I’m just as excited as you are about that.\",\n",
        "    \"I enjoy it when the Wi-Fi goes down in the middle of a video call.\",\n",
        "    \"I just love when my favorite band plays the most unpopular songs in their concert.\",\n",
        "    \"Getting an email saying 'You’ve been pre-approved for a loan!' is always a delightful surprise.\",\n",
        "    \"Oh, perfect, another random system update in the middle of my work.\",\n",
        "    \"Nothing like getting stuck with the responsibility for a task that no one else wants to do.\",\n",
        "    \"Of course, I can totally make it to the event, even though it’s happening during my lunch break.\",\n",
        "    \"Oh yeah, I’m totally thrilled that I get to pay for shipping on top of that overpriced item.\",\n",
        "    \"What better way to spend my day than sitting through an hour-long webinar that could have been a video?\",\n",
        "    \"I just love the feeling when the printer jams right when I need to print something important.\",\n",
        "    \"Yes, I really enjoy when I lose my wallet right before a big trip. Great timing.\",\n",
        "     \"Oh, what a surprise, the weather is exactly as I expected—rainy and gloomy.\",\n",
        "    \"I’m so glad I spent my entire day waiting for a phone call that never came.\",\n",
        "    \"Of course, I’ll just drop everything and help you with your problem that’s been brewing for weeks.\",\n",
        "    \"I love when I get asked for my opinion, and it gets completely ignored.\",\n",
        "    \"I’m thrilled to be the only one who has to clean up after the party.\",\n",
        "    \"Who wouldn’t love getting stuck in traffic on the way to an important meeting?\",\n",
        "    \"Oh great, my favorite brand just released a new product that I absolutely don’t need.\",\n",
        "    \"I just adore how my email inbox fills up with newsletters I never signed up for.\",\n",
        "    \"Sure, I love when everything goes wrong, especially when it could have been avoided.\",\n",
        "    \"It’s so great when my favorite TV show decides to leave me on a cliffhanger for a year.\",\n",
        "    \"I’m so excited to sit through another round of endless meetings that lead to nothing.\",\n",
        "    \"I just can’t get enough of my computer freezing when I’m in the middle of something important.\",\n",
        "    \"Oh, absolutely! I love when a system update decides to restart my computer in the middle of my work.\",\n",
        "    \"It’s always a pleasure when people assume you’ve got everything figured out.\",\n",
        "    \"I just love when my phone dies at the worst possible moment—especially when I need it the most.\",\n",
        "    \"Wow, I didn’t expect to spend my entire weekend fixing things that shouldn’t have broken in the first place.\",\n",
        "    \"Sure, I’m super excited to do the same task for the tenth time this week.\",\n",
        "    \"I just love how my internet speed always slows down during the most important calls.\",\n",
        "    \"There’s nothing like being stuck in a meeting where no one agrees on anything.\",\n",
        "    \"Oh, perfect, my favorite restaurant is out of my usual order again.\",\n",
        "     \"Oh, I just adore being left on read for hours, it’s truly a great feeling.\",\n",
        "    \"I’m so glad I stayed up all night to finish this, only for it to be canceled last minute.\",\n",
        "    \"Sure, I enjoy paying for parking just to find an empty spot on the street right next to it.\",\n",
        "    \"I really needed more emails from the same people with zero important updates.\",\n",
        "    \"Oh great, another meeting where I’m just here to listen and pretend I’m involved.\",\n",
        "    \"I love how the wifi always decides to go down exactly when I need it most.\",\n",
        "    \"It’s always a delight when your phone crashes right before you save something important.\",\n",
        "    \"Nothing like getting stuck in a never-ending loop of automated customer service.\",\n",
        "    \"Of course, the one time I’m in a rush, my computer decides it needs a 10-minute update.\",\n",
        "    \"How fun is it to work on a project for weeks, only to have it scrapped last minute?\",\n",
        "    \"I always love when I make plans, and then they get canceled at the last moment.\",\n",
        "    \"I’m just thrilled to be the one who has to clean up after everyone’s mess.\",\n",
        "    \"I just can’t get enough of all the emails that I’ll never read.\",\n",
        "    \"Who needs a quiet evening when you can spend it running errands all night?\",\n",
        "    \"I love waiting in line for hours, only to get to the counter and realize I forgot my ID.\",\n",
        "    \"It’s always so great when a new app gets an update that makes it completely useless.\",\n",
        "    \"I just adore receiving the same message from 10 different people at the same time.\",\n",
        "    \"It’s fantastic to see that once again, I’m the only one who did the work.\",\n",
        "    \"Who wouldn’t love being stuck in an airport for hours with no updates on the flight?\",\n",
        "    \"Nothing like a perfectly timed mistake that ruins everything you were working on.\",\n",
        "    \"Oh, I'm just thrilled that I spent the whole day preparing, only for the event to be canceled last minute.\",\n",
        "    \"Wow, I can't believe how well that project turned out… said no one ever.\",\n",
        "    \"It’s so much fun to stay up until 3 AM for something that doesn’t even matter.\",\n",
        "    \"Sure, I love receiving emails about events that are already over.\",\n",
        "    \"Nothing like running into traffic just when you're already late.\",\n",
        "    \"I just adore the sound of my alarm ringing 5 minutes after I fall asleep.\",\n",
        "    \"Oh great, another pop-up ad while I'm trying to get some work done.\",\n",
        "    \"I’m so happy to have spent all my savings on a product that doesn’t even work.\",\n",
        "    \"Of course, the one time I need to charge my phone, I can’t find my charger.\",\n",
        "    \"Oh, how wonderful it is when the 'quick' software update takes forever.\",\n",
        "    \"Nothing like a clear inbox… until the next wave of spam arrives.\",\n",
        "    \"I love how my entire weekend plans can be ruined by a single bad decision.\",\n",
        "    \"Isn’t it just the best when you’re ready to go and then your car refuses to start?\",\n",
        "    \"I always enjoy a meeting that could have been an email.\",\n",
        "    \"So nice of my computer to freeze just when I’m about to save my work.\",\n",
        "    \"I just love when the printer runs out of ink at the worst possible moment.\",\n",
        "    \"It’s such a relief when someone tells you they’ll handle something and then they don’t.\",\n",
        "    \"How exciting it is to receive a 20-minute long voicemail that says nothing.\",\n",
        "    \"I can’t wait to receive more promotional texts for things I will never buy.\",\n",
        "    \"Oh, I just love waiting for hours to get a 10-second response on my ticket.\",\n",
        "\n",
        "] * 50  # Repeat to get 500\n",
        "\n",
        "# Generating 500 non-sarcastic sentences\n",
        "non_sarcastic_sentences = [\n",
        "    \"I genuinely enjoy helping others succeed.\",\n",
        "    \"That was a really funny joke, I laughed a lot.\",\n",
        "    \"She always works hard and stays dedicated.\",\n",
        "    \"I had a fantastic time at the beach with my friends.\",\n",
        "    \"The sunset over the ocean was truly breathtaking.\",\n",
        "    \"Helping people makes me feel good.\",\n",
        "    \"He is always so kind and considerate to others.\",\n",
        "    \"I love spending quality time with my family.\",\n",
        "    \"Reading books is one of my favorite hobbies.\",\n",
        "    \"I enjoy learning new things every day.\",\n",
        "    \"I enjoy spending quality time with my family on weekends.\",\n",
        "    \"Helping others always brings me a sense of joy.\",\n",
        "    \"Today was a beautiful day to go for a walk in the park.\",\n",
        "    \"I feel very grateful for the opportunity to learn new things every day.\",\n",
        "    \"It’s such a blessing to be able to volunteer and make a difference in people’s lives.\",\n",
        "    \"Reading books allows me to relax and explore new worlds.\",\n",
        "    \"I had a great time catching up with friends at dinner.\",\n",
        "    \"Working out in the gym always boosts my energy and mood.\",\n",
        "    \"I appreciate the little moments of peace in a busy day.\",\n",
        "    \"Learning new skills at work has been incredibly rewarding.\",\n",
        "    \"Spending time outdoors always helps clear my mind.\",\n",
        "    \"I enjoy cooking and experimenting with new recipes.\",\n",
        "    \"Today’s meeting was very productive and helped us move forward with the project.\",\n",
        "    \"It’s always nice to receive a compliment, it makes the day better.\",\n",
        "    \"Spending the afternoon in a museum is such a fulfilling experience.\",\n",
        "    \"I’m grateful for the supportive team at work, they make everything easier.\",\n",
        "    \"I enjoy listening to music that uplifts my spirits.\",\n",
        "    \"Helping a friend in need always feels like the right thing to do.\",\n",
        "    \"Taking time to meditate really improves my mental clarity.\",\n",
        "    \"I love spending weekends hiking and enjoying nature.\",\n",
        "    \"I love waking up early to enjoy the quiet mornings before everyone else is awake.\",\n",
        "    \"Spending quality time with friends is always such a fulfilling experience.\",\n",
        "    \"I enjoy cooking dinner for my family on weekends.\",\n",
        "    \"It's so nice to receive unexpected acts of kindness from strangers.\",\n",
        "    \"I always feel so calm after a good workout session.\",\n",
        "    \"Reading a book before bed helps me unwind and relax.\",\n",
        "    \"It's great to see people coming together to support a good cause.\",\n",
        "    \"I had a great conversation with my coworker today, sharing ideas and thoughts.\",\n",
        "    \"Spending a few hours in the garden is so refreshing.\",\n",
        "    \"I enjoy taking walks along the beach during sunset.\",\n",
        "    \"Listening to my favorite podcasts in the morning helps me stay motivated.\",\n",
        "    \"I had a lovely time volunteering at the local animal shelter this weekend.\",\n",
        "    \"The feeling of completing a challenging project is so rewarding.\",\n",
        "    \"I love when everything goes smoothly in the kitchen when I'm preparing a meal.\",\n",
        "    \"It’s always nice to have a peaceful afternoon with no interruptions.\",\n",
        "    \"The sense of accomplishment after finishing a long run is unbeatable.\",\n",
        "    \"I always look forward to spending time with my siblings, it's never boring.\",\n",
        "    \"It's such a joy to spend time in nature and appreciate the beauty around us.\",\n",
        "    \"Catching up with a good friend always brings a smile to my face.\",\n",
        "    \"Having a good laugh with colleagues at work is always the best part of my day.\",\n",
        "    \"I love spending the weekend outdoors with my family, enjoying the fresh air.\",\n",
        "    \"Cooking a new recipe always excites me, especially when it turns out delicious.\",\n",
        "    \"I feel so refreshed after a long hike in the mountains.\",\n",
        "    \"Volunteering at the community center has been one of the most rewarding experiences.\",\n",
        "    \"There’s nothing like enjoying a good book on a lazy Sunday afternoon.\",\n",
        "    \"I always look forward to a good workout session to start my day with energy.\",\n",
        "    \"Spending time with pets is one of the simplest pleasures in life.\",\n",
        "    \"It’s so fulfilling to see my garden grow and bloom after months of care.\",\n",
        "    \"I love when my friends and I get together for a night of games and laughter.\",\n",
        "    \"Sharing meals with my loved ones brings me so much joy.\",\n",
        "    \"I find it so peaceful to meditate in the mornings before starting my day.\",\n",
        "    \"Going on spontaneous road trips with friends always leads to great memories.\",\n",
        "    \"I enjoy attending live music events and connecting with other music lovers.\",\n",
        "    \"Walking through a park during the fall, when the leaves are changing, is always so calming.\",\n",
        "    \"Taking a deep breath and relaxing with a hot cup of tea helps me reset my mind.\",\n",
        "    \"I’m grateful for the quiet moments I get to spend reading or journaling in the evenings.\",\n",
        "    \"Spending quality time with family members is always something I cherish.\",\n",
        "    \"I find a lot of comfort in learning something new every day.\",\n",
        "    \"The excitement of meeting new people and making new friends is truly fulfilling.\",\n",
        "    \"It’s always so satisfying to see a project I’ve worked hard on come together.\",\n",
        "    \"I feel a sense of peace when I’m out for a walk in the quiet woods.\",\n",
        "    \"I love discovering new hobbies, especially when they bring joy to my life.\",\n",
        "    \"Spending the evening watching the sunset is one of my favorite things to do.\",\n",
        "    \"I cherish the moments when I get to spend time with my family and friends.\",\n",
        "    \"I always feel so relaxed after a yoga session to unwind from a busy day.\",\n",
        "    \"Learning new languages is something I’ve always enjoyed and found rewarding.\",\n",
        "    \"Cooking a meal from scratch always gives me a sense of accomplishment.\",\n",
        "    \"I love to read books, especially mysteries, as they keep me engaged and entertained.\",\n",
        "    \"Having a quiet morning with a warm cup of coffee is the best way to start my day.\",\n",
        "    \"I enjoy walking my dog in the park every evening—it’s a peaceful routine.\",\n",
        "    \"Listening to live music always makes me feel connected to the performers.\",\n",
        "    \"Taking care of my plants is something that brings me a lot of joy and satisfaction.\",\n",
        "    \"I’m grateful for every opportunity to learn something new and grow.\",\n",
        "    \"Spending the holidays with my family creates memories that I will cherish forever.\",\n",
        "    \"Going for a morning run is a great way to clear my mind before the day starts.\",\n",
        "    \"I love attending local community events to support small businesses and artists.\",\n",
        "    \"Nothing beats a homemade meal with fresh ingredients, especially when shared with loved ones.\",\n",
        "    \"I enjoy catching up with old friends over a cup of tea.\",\n",
        "    \"I feel lucky to have a job that I’m passionate about.\",\n",
        "    \"There’s something so rewarding about seeing the results of your hard work.\",\n",
        "    \"Spending a quiet evening with a good book is my idea of relaxation.\",\n",
        "    \"I really enjoy trying out new recipes, especially when they turn out great.\",\n",
        "    \"Walking through the park in the morning air always clears my mind.\",\n",
        "    \"I always feel fulfilled when I can help others achieve their goals.\",\n",
        "    \"A good workout session in the morning sets the tone for my whole day.\",\n",
        "    \"I love volunteering at local events and making a difference in the community.\",\n",
        "    \"One of my favorite hobbies is gardening and watching my plants grow.\",\n",
        "    \"I feel so grateful every time I get to travel to a new place and experience its culture.\",\n",
        "    \"Spending time with family over dinner is always the highlight of my day.\",\n",
        "    \"Learning a new skill or hobby is something that always excites me.\",\n",
        "    \"I feel so content when I’m at the beach with the sound of the waves in the background.\",\n",
        "    \"Writing in my journal every morning helps me focus on the day ahead.\",\n",
        "    \"I love having a cup of tea while watching the rain fall outside.\",\n",
        "    \"It’s always a good feeling to help someone out with a task they’re struggling with.\",\n",
        "    \"Seeing my friends succeed in their endeavors brings me a sense of pride.\",\n",
        "    \"I love attending workshops that allow me to learn something new and valuable.\",\n",
        "    \"Exploring new hiking trails is one of the best ways to stay fit and enjoy nature.\",\n",
        "    \"I feel a sense of accomplishment every time I finish a project or task.\",\n",
        "    \"I enjoy spending time outdoors, whether it's for a hike, a bike ride, or just a walk.\",\n",
        "    \"Reading inspiring books gives me a new perspective and motivates me to do better.\",\n",
        "] * 50  # Repeat to get 500\n",
        "\n",
        "\n",
        "# Ensure both lists have 500 items before creating the DataFrame\n",
        "sarcastic_sentences = sarcastic_sentences[:500]  # Limit to 500 items\n",
        "non_sarcastic_sentences = non_sarcastic_sentences[:500] # Limit to 500 items\n",
        "\n",
        "# Creating DataFrame\n",
        "data = {\"text\": sarcastic_sentences + non_sarcastic_sentences, \"label\": [1] * len(sarcastic_sentences) + [0] * len(non_sarcastic_sentences)}\n",
        "df = pd.DataFrame(data)\n",
        "\n",
        "# Shuffle the dataset\n",
        "df = df.sample(frac=1, random_state=42).reset_index(drop=True)\n",
        "\n",
        "# Save the dataset\n",
        "df.to_csv(\"sarcasm_dataset_large.csv\", index=False)\n"
      ]
    },
    {
      "cell_type": "code",
      "source": [
        "import numpy as np\n",
        "import tensorflow as tf\n",
        "from tensorflow.keras.preprocessing.text import Tokenizer\n",
        "from tensorflow.keras.preprocessing.sequence import pad_sequences\n",
        "from tensorflow.keras.models import Sequential\n",
        "from tensorflow.keras.layers import Embedding, LSTM, Dense, Dropout\n",
        "from sklearn.model_selection import train_test_split\n",
        "import pandas as pd\n"
      ],
      "metadata": {
        "id": "DRtvCpSYCcj6"
      },
      "execution_count": 3,
      "outputs": []
    },
    {
      "cell_type": "code",
      "source": [
        "# Load dataset\n",
        "df = pd.read_csv(\"sarcasm_dataset_large.csv\")"
      ],
      "metadata": {
        "id": "fYWrpnBOCrmE"
      },
      "execution_count": 4,
      "outputs": []
    },
    {
      "cell_type": "code",
      "source": [
        "# Tokenization\n",
        "tokenizer = Tokenizer(num_words=5000, oov_token=\"<OOV>\")\n",
        "tokenizer.fit_on_texts(df[\"text\"])"
      ],
      "metadata": {
        "id": "DHZXNUjzCrjx"
      },
      "execution_count": 5,
      "outputs": []
    },
    {
      "cell_type": "code",
      "source": [
        "# Convert text to sequences\n",
        "sequences = tokenizer.texts_to_sequences(df[\"text\"])\n",
        "max_length = max(len(seq) for seq in sequences)\n",
        "padded_sequences = pad_sequences(sequences, maxlen=max_length, padding='post')"
      ],
      "metadata": {
        "id": "e6zGjns7Crg8"
      },
      "execution_count": 6,
      "outputs": []
    },
    {
      "cell_type": "code",
      "source": [
        "padded_sequences"
      ],
      "metadata": {
        "colab": {
          "base_uri": "https://localhost:8080/"
        },
        "id": "zGeyGJorCrd8",
        "outputId": "302d461d-e1d0-49bd-a9d5-2400204f0e54"
      },
      "execution_count": 7,
      "outputs": [
        {
          "output_type": "execute_result",
          "data": {
            "text/plain": [
              "array([[  2,  20, 121, ...,   0,   0,   0],\n",
              "       [170,  57,   9, ...,   0,   0,   0],\n",
              "       [ 28,  23, 171, ...,   0,   0,   0],\n",
              "       ...,\n",
              "       [  2,  12, 169, ...,   0,   0,   0],\n",
              "       [  2,  15,  12, ...,   0,   0,   0],\n",
              "       [667,  21,  15, ...,   0,   0,   0]], dtype=int32)"
            ]
          },
          "metadata": {},
          "execution_count": 7
        }
      ]
    },
    {
      "cell_type": "code",
      "source": [
        "# Convert labels\n",
        "labels = np.array(df[\"label\"])"
      ],
      "metadata": {
        "id": "qEGoqgUXC8aq"
      },
      "execution_count": 8,
      "outputs": []
    },
    {
      "cell_type": "code",
      "source": [
        "labels"
      ],
      "metadata": {
        "colab": {
          "base_uri": "https://localhost:8080/"
        },
        "id": "ANJ9FQ_4DAJ-",
        "outputId": "261f6547-e9fc-4a69-dff2-5b4fcc62ace8"
      },
      "execution_count": 9,
      "outputs": [
        {
          "output_type": "execute_result",
          "data": {
            "text/plain": [
              "array([0, 0, 0, 0, 1, 0, 0, 0, 0, 1, 0, 1, 0, 0, 0, 0, 1, 0, 0, 1, 0, 1,\n",
              "       1, 0, 1, 1, 1, 0, 0, 0, 1, 1, 0, 1, 1, 1, 0, 0, 0, 1, 1, 1, 1, 0,\n",
              "       1, 1, 0, 0, 1, 0, 0, 0, 1, 0, 1, 1, 0, 1, 1, 0, 1, 1, 0, 1, 0, 0,\n",
              "       0, 0, 1, 0, 1, 1, 0, 0, 1, 1, 0, 1, 0, 1, 0, 1, 1, 1, 1, 0, 0, 0,\n",
              "       0, 1, 1, 1, 0, 1, 0, 1, 0, 1, 1, 0, 0, 1, 0, 1, 0, 0, 0, 0, 1, 0,\n",
              "       0, 0, 0, 0, 1, 1, 1, 0, 0, 1, 0, 1, 0, 1, 1, 0, 0, 1, 0, 0, 0, 0,\n",
              "       1, 0, 0, 1, 1, 1, 1, 1, 1, 1, 0, 1, 0, 0, 0, 1, 0, 1, 0, 1, 0, 1,\n",
              "       0, 1, 1, 0, 1, 0, 0, 0, 0, 0, 0, 0, 1, 0, 1, 1, 1, 1, 1, 0, 1, 1,\n",
              "       1, 1, 0, 0, 1, 0, 1, 0, 0, 1, 1, 1, 0, 0, 0, 0, 0, 1, 1, 1, 1, 1,\n",
              "       0, 1, 1, 0, 0, 0, 0, 0, 1, 0, 1, 0, 1, 1, 0, 0, 0, 1, 0, 1, 0, 0,\n",
              "       1, 0, 0, 1, 0, 1, 0, 1, 0, 0, 1, 0, 1, 0, 1, 1, 1, 0, 1, 1, 1, 1,\n",
              "       0, 0, 1, 1, 1, 1, 1, 1, 1, 0, 0, 0, 1, 1, 0, 0, 0, 1, 0, 1, 1, 1,\n",
              "       1, 0, 0, 1, 0, 1, 1, 1, 0, 1, 0, 1, 1, 0, 1, 0, 0, 0, 1, 1, 1, 0,\n",
              "       1, 1, 1, 0, 0, 0, 0, 1, 1, 1, 0, 1, 1, 1, 0, 1, 1, 1, 0, 0, 1, 0,\n",
              "       0, 0, 0, 0, 0, 0, 1, 1, 1, 1, 0, 1, 1, 1, 1, 0, 0, 0, 1, 1, 0, 1,\n",
              "       0, 1, 0, 0, 1, 1, 0, 0, 0, 0, 1, 1, 1, 1, 1, 1, 0, 0, 1, 0, 1, 1,\n",
              "       0, 1, 1, 1, 1, 1, 1, 1, 1, 0, 1, 1, 1, 1, 0, 1, 1, 0, 1, 0, 1, 1,\n",
              "       1, 0, 1, 1, 0, 0, 1, 1, 0, 1, 1, 0, 0, 1, 0, 0, 1, 1, 0, 1, 0, 1,\n",
              "       1, 1, 0, 0, 1, 1, 0, 0, 0, 0, 0, 1, 1, 0, 0, 0, 0, 1, 0, 0, 0, 0,\n",
              "       0, 1, 1, 0, 1, 0, 1, 1, 1, 1, 0, 1, 1, 1, 1, 1, 1, 1, 1, 1, 0, 0,\n",
              "       1, 0, 0, 0, 0, 0, 0, 1, 0, 0, 0, 0, 1, 1, 1, 0, 0, 0, 1, 1, 1, 1,\n",
              "       0, 0, 1, 1, 1, 1, 0, 1, 1, 1, 0, 1, 1, 0, 0, 0, 0, 0, 0, 1, 1, 1,\n",
              "       0, 1, 1, 1, 1, 1, 0, 0, 0, 1, 1, 1, 1, 1, 0, 0, 0, 1, 1, 0, 0, 0,\n",
              "       0, 1, 0, 0, 1, 0, 1, 1, 1, 0, 1, 1, 0, 1, 1, 0, 0, 1, 1, 0, 0, 1,\n",
              "       0, 1, 0, 1, 0, 1, 0, 1, 1, 1, 0, 1, 1, 1, 1, 1, 1, 0, 0, 0, 0, 1,\n",
              "       1, 1, 0, 1, 0, 0, 1, 1, 1, 1, 1, 0, 0, 0, 1, 1, 0, 1, 1, 0, 1, 1,\n",
              "       0, 1, 1, 0, 1, 1, 1, 0, 1, 1, 0, 0, 0, 1, 0, 0, 1, 1, 1, 0, 0, 0,\n",
              "       0, 1, 1, 0, 0, 0, 1, 1, 1, 1, 0, 0, 1, 1, 0, 0, 1, 1, 0, 0, 0, 0,\n",
              "       0, 0, 0, 1, 0, 1, 0, 1, 1, 0, 1, 0, 0, 0, 0, 1, 1, 0, 0, 1, 1, 0,\n",
              "       1, 0, 1, 1, 1, 0, 1, 1, 0, 0, 0, 0, 1, 0, 0, 0, 0, 0, 0, 0, 1, 0,\n",
              "       1, 0, 0, 0, 1, 1, 0, 1, 1, 1, 0, 0, 0, 0, 1, 1, 1, 1, 0, 1, 0, 0,\n",
              "       0, 1, 0, 1, 1, 0, 1, 1, 0, 0, 0, 0, 0, 1, 0, 1, 1, 1, 0, 0, 0, 0,\n",
              "       0, 1, 1, 1, 0, 0, 0, 0, 1, 1, 1, 1, 1, 0, 0, 1, 0, 1, 0, 1, 1, 1,\n",
              "       1, 1, 1, 1, 1, 1, 0, 0, 0, 0, 0, 1, 0, 1, 0, 0, 0, 0, 1, 0, 0, 0,\n",
              "       0, 0, 0, 0, 0, 1, 0, 0, 1, 0, 1, 1, 1, 0, 1, 0, 0, 0, 1, 0, 0, 1,\n",
              "       0, 0, 1, 0, 1, 0, 0, 1, 1, 0, 0, 0, 1, 1, 1, 1, 0, 0, 1, 1, 0, 0,\n",
              "       0, 0, 0, 0, 0, 0, 0, 0, 0, 0, 0, 0, 1, 1, 0, 1, 0, 1, 0, 1, 0, 0,\n",
              "       0, 0, 0, 0, 1, 0, 1, 0, 0, 0, 1, 0, 0, 1, 1, 0, 1, 0, 0, 1, 1, 0,\n",
              "       0, 0, 0, 0, 0, 0, 0, 1, 0, 0, 0, 1, 0, 1, 1, 0, 0, 1, 1, 1, 0, 1,\n",
              "       1, 0, 1, 1, 1, 0, 1, 0, 1, 1, 1, 1, 0, 1, 0, 0, 0, 0, 1, 0, 1, 1,\n",
              "       1, 1, 1, 1, 0, 1, 0, 1, 0, 1, 0, 0, 0, 1, 0, 1, 0, 1, 1, 0, 0, 0,\n",
              "       1, 1, 1, 0, 0, 1, 0, 1, 0, 0, 1, 0, 1, 1, 0, 0, 0, 1, 1, 1, 0, 0,\n",
              "       1, 1, 1, 1, 1, 0, 0, 1, 0, 1, 1, 1, 0, 1, 1, 1, 0, 0, 0, 0, 1, 0,\n",
              "       0, 0, 1, 0, 0, 0, 0, 1, 0, 0, 1, 0, 0, 1, 1, 0, 0, 0, 1, 1, 1, 1,\n",
              "       1, 1, 0, 1, 1, 0, 1, 1, 1, 0, 1, 0, 1, 0, 0, 1, 1, 1, 1, 1, 1, 1,\n",
              "       1, 0, 1, 0, 1, 1, 1, 0, 1, 1])"
            ]
          },
          "metadata": {},
          "execution_count": 9
        }
      ]
    },
    {
      "cell_type": "code",
      "source": [
        "# Train-test split\n",
        "X_train, X_test, y_train, y_test = train_test_split(padded_sequences, labels, test_size=0.2, random_state=42)"
      ],
      "metadata": {
        "id": "gNDifTfSDBEN"
      },
      "execution_count": 10,
      "outputs": []
    },
    {
      "cell_type": "code",
      "source": [
        "# Build LSTM Model\n",
        "model = Sequential([\n",
        "    Embedding(5000, 100, input_length=max_length),\n",
        "    LSTM(150, return_sequences=True),\n",
        "    Dropout(0.2),\n",
        "    LSTM(150),\n",
        "    Dropout(0.2),\n",
        "    Dense(128, activation='relu'),\n",
        "    Dense(1, activation='sigmoid')  # Binary classification\n",
        "])"
      ],
      "metadata": {
        "colab": {
          "base_uri": "https://localhost:8080/"
        },
        "id": "EWsWyd0JDD81",
        "outputId": "9d37d5b2-fd7f-419c-cff8-535d46b5897b"
      },
      "execution_count": 11,
      "outputs": [
        {
          "output_type": "stream",
          "name": "stderr",
          "text": [
            "/usr/local/lib/python3.11/dist-packages/keras/src/layers/core/embedding.py:90: UserWarning: Argument `input_length` is deprecated. Just remove it.\n",
            "  warnings.warn(\n"
          ]
        }
      ]
    },
    {
      "cell_type": "code",
      "source": [
        "# Compile Model\n",
        "model.compile(loss='binary_crossentropy', optimizer='adam', metrics=['accuracy'])"
      ],
      "metadata": {
        "id": "24u75itEDGXF"
      },
      "execution_count": 12,
      "outputs": []
    },
    {
      "cell_type": "code",
      "source": [
        "# Train Model\n",
        "model.fit(X_train, y_train, epochs=5, batch_size=8, validation_data=(X_test, y_test))\n"
      ],
      "metadata": {
        "colab": {
          "base_uri": "https://localhost:8080/"
        },
        "id": "YEutdYb3DN8d",
        "outputId": "df9d4be2-ab5c-43f6-bdcf-beeec4d469e5"
      },
      "execution_count": 13,
      "outputs": [
        {
          "output_type": "stream",
          "name": "stdout",
          "text": [
            "Epoch 1/5\n",
            "\u001b[1m100/100\u001b[0m \u001b[32m━━━━━━━━━━━━━━━━━━━━\u001b[0m\u001b[37m\u001b[0m \u001b[1m12s\u001b[0m 74ms/step - accuracy: 0.7551 - loss: 0.4240 - val_accuracy: 1.0000 - val_loss: 0.0066\n",
            "Epoch 2/5\n",
            "\u001b[1m100/100\u001b[0m \u001b[32m━━━━━━━━━━━━━━━━━━━━\u001b[0m\u001b[37m\u001b[0m \u001b[1m8s\u001b[0m 49ms/step - accuracy: 1.0000 - loss: 0.0037 - val_accuracy: 1.0000 - val_loss: 8.3639e-05\n",
            "Epoch 3/5\n",
            "\u001b[1m100/100\u001b[0m \u001b[32m━━━━━━━━━━━━━━━━━━━━\u001b[0m\u001b[37m\u001b[0m \u001b[1m9s\u001b[0m 84ms/step - accuracy: 1.0000 - loss: 8.0849e-05 - val_accuracy: 1.0000 - val_loss: 4.5347e-05\n",
            "Epoch 4/5\n",
            "\u001b[1m100/100\u001b[0m \u001b[32m━━━━━━━━━━━━━━━━━━━━\u001b[0m\u001b[37m\u001b[0m \u001b[1m7s\u001b[0m 50ms/step - accuracy: 1.0000 - loss: 4.0725e-05 - val_accuracy: 1.0000 - val_loss: 2.9195e-05\n",
            "Epoch 5/5\n",
            "\u001b[1m100/100\u001b[0m \u001b[32m━━━━━━━━━━━━━━━━━━━━\u001b[0m\u001b[37m\u001b[0m \u001b[1m7s\u001b[0m 65ms/step - accuracy: 1.0000 - loss: 2.8836e-05 - val_accuracy: 1.0000 - val_loss: 1.9828e-05\n"
          ]
        },
        {
          "output_type": "execute_result",
          "data": {
            "text/plain": [
              "<keras.src.callbacks.history.History at 0x785190725a10>"
            ]
          },
          "metadata": {},
          "execution_count": 13
        }
      ]
    },
    {
      "cell_type": "code",
      "source": [
        "# Evaluate Model\n",
        "accuracy = model.evaluate(X_test, y_test)[1]\n",
        "print(f\"Model Accuracy: {accuracy * 100:.2f}%\")"
      ],
      "metadata": {
        "colab": {
          "base_uri": "https://localhost:8080/"
        },
        "id": "uKHXEmoDDRGU",
        "outputId": "a53bcefa-5e9a-4e7f-a983-3984d640babc"
      },
      "execution_count": 14,
      "outputs": [
        {
          "output_type": "stream",
          "name": "stdout",
          "text": [
            "\u001b[1m7/7\u001b[0m \u001b[32m━━━━━━━━━━━━━━━━━━━━\u001b[0m\u001b[37m\u001b[0m \u001b[1m1s\u001b[0m 28ms/step - accuracy: 1.0000 - loss: 1.9214e-05\n",
            "Model Accuracy: 100.00%\n"
          ]
        }
      ]
    },
    {
      "cell_type": "code",
      "source": [
        "# Save the model\n",
        "model.save(\"sarcasm_model_large.h5\")"
      ],
      "metadata": {
        "colab": {
          "base_uri": "https://localhost:8080/"
        },
        "id": "dQpDvwh5EAFz",
        "outputId": "e29197c1-a00a-4473-aa56-9c9a5a7d1755"
      },
      "execution_count": 15,
      "outputs": [
        {
          "output_type": "stream",
          "name": "stderr",
          "text": [
            "WARNING:absl:You are saving your model as an HDF5 file via `model.save()` or `keras.saving.save_model(model)`. This file format is considered legacy. We recommend using instead the native Keras format, e.g. `model.save('my_model.keras')` or `keras.saving.save_model(model, 'my_model.keras')`. \n"
          ]
        }
      ]
    },
    {
      "cell_type": "code",
      "source": [
        "# Load trained model\n",
        "model = tf.keras.models.load_model(\"sarcasm_model_large.h5\")\n",
        "\n",
        "# New test sentences\n",
        "new_sentences = [\n",
        "    \"Oh wow, another amazing traffic jam. Lucky me!\",  # Sarcastic\n",
        "    \"I love spending time with my family on weekends.\",  # Non-Sarcastic\n",
        "    \"Great, my laptop just crashed during an important meeting!\",  # Sarcastic\n",
        "    \"She is the kindest person I know.\",  # Non-Sarcastic\n",
        "]\n",
        "\n",
        "# Convert text to sequences\n",
        "new_sequences = tokenizer.texts_to_sequences(new_sentences)\n",
        "new_padded = pad_sequences(new_sequences, maxlen=max_length, padding='post')\n",
        "\n",
        "# Make Predictions\n",
        "predictions = model.predict(new_padded)\n",
        "\n",
        "# Display results\n",
        "for text, pred in zip(new_sentences, predictions):\n",
        "    label = \"Sarcastic\" if pred > 0.5 else \"Non-Sarcastic\"\n",
        "    print(f\"Sentence: {text}\\nPrediction: {label}\\n\")\n"
      ],
      "metadata": {
        "colab": {
          "base_uri": "https://localhost:8080/"
        },
        "id": "GkZzyvhCEEvK",
        "outputId": "e1ffc522-dfca-4213-e99e-e6e58e8cbf12"
      },
      "execution_count": 16,
      "outputs": [
        {
          "output_type": "stream",
          "name": "stderr",
          "text": [
            "WARNING:absl:Compiled the loaded model, but the compiled metrics have yet to be built. `model.compile_metrics` will be empty until you train or evaluate the model.\n"
          ]
        },
        {
          "output_type": "stream",
          "name": "stdout",
          "text": [
            "\u001b[1m1/1\u001b[0m \u001b[32m━━━━━━━━━━━━━━━━━━━━\u001b[0m\u001b[37m\u001b[0m \u001b[1m1s\u001b[0m 640ms/step\n",
            "Sentence: Oh wow, another amazing traffic jam. Lucky me!\n",
            "Prediction: Sarcastic\n",
            "\n",
            "Sentence: I love spending time with my family on weekends.\n",
            "Prediction: Non-Sarcastic\n",
            "\n",
            "Sentence: Great, my laptop just crashed during an important meeting!\n",
            "Prediction: Sarcastic\n",
            "\n",
            "Sentence: She is the kindest person I know.\n",
            "Prediction: Non-Sarcastic\n",
            "\n"
          ]
        }
      ]
    }
  ]
}